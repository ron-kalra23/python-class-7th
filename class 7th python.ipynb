{
 "cells": [
  {
   "cell_type": "markdown",
   "id": "6f99c34c",
   "metadata": {},
   "source": [
    "# Encapsulation:\n",
    "                          it is like combining different object into the one .encapsulation is an another powerful way to extent a class and wraping an object with an another object.\n",
    "                          \n",
    "                          just like gmail , gdrive and google photos they all work with only one account.\n",
    "                          for example: if we need to make a car we combine engine , body and tyres together then a car is made , in the same way we join differet object together to make a new object.\n",
    "                          \n",
    " 1.Tyre\n",
    " 2.Body\n",
    " 3.Engine\n",
    " all three parts wrapped into one then an 4th object is made that is car"
   ]
  },
  {
   "cell_type": "code",
   "execution_count": 17,
   "id": "a68ee080",
   "metadata": {},
   "outputs": [
    {
     "name": "stdout",
     "output_type": "stream",
     "text": [
      "<__main__.Car object at 0x0000014159F87D00>\n"
     ]
    }
   ],
   "source": [
    "class Tyres:\n",
    "    def __init__(self,branch,belted_bias , opt_pressure):\n",
    "        self.branch = branch\n",
    "        self.belted_bias = belted_bias\n",
    "        self.opt_pressure = opt_pressure\n",
    "        \n",
    "    def __str__(self):\n",
    "        return(\"Tyres: \\n \\tbranch:\" + self.branch +\n",
    "              \" \\n \\tBelted-bias:\"+ str(self.belted_bias)+\n",
    "               \"\\n \\tOtimal pressure\"+ str(self.opt_pressure))\n",
    "class Engine:\n",
    "    \n",
    "    def __init__(self,fuel_type ,noise_level):\n",
    "        self.fuel_type =  fuel_type\n",
    "        self.noise_level = noise_level\n",
    "     \n",
    "    def __str__(self):\n",
    "        return(\"engine: \\n  \\tFuel_type:\",self.fuel_type +\n",
    "              \"\\n \\tNoise_level:\" + str(self.noise_level))\n",
    "class Body:\n",
    "    def __init__(self,size):\n",
    "        self.size = size\n",
    "    def __str__(self):\n",
    "        return(\"Body: \\n \\tsize\"+self.size)\n",
    "\n",
    "class Car:\n",
    "    def __init__(self,tyres , engine , body):\n",
    "        self.tyres = tyres\n",
    "        self.engine = engine\n",
    "        self.body = body\n",
    "        \n",
    "    def ___str__(self):\n",
    "        return str(self.tyres) + '\\n' +str(self.engine) + '\\n' + str(self.body)\n",
    "    \n",
    "    \n",
    "t = Tyres('mrf',True , 34)\n",
    "e = Engine('petrol' , 2.3)\n",
    "b = Body('SUV')\n",
    "\n",
    "c = Car(t,e,b)\n",
    "print(c)\n",
    "    \n",
    "            \n",
    "               \n",
    "\n",
    "               "
   ]
  },
  {
   "cell_type": "code",
   "execution_count": null,
   "id": "8351ce68",
   "metadata": {},
   "outputs": [],
   "source": []
  },
  {
   "cell_type": "code",
   "execution_count": null,
   "id": "2a382e73",
   "metadata": {},
   "outputs": [],
   "source": []
  }
 ],
 "metadata": {
  "kernelspec": {
   "display_name": "Python 3 (ipykernel)",
   "language": "python",
   "name": "python3"
  },
  "language_info": {
   "codemirror_mode": {
    "name": "ipython",
    "version": 3
   },
   "file_extension": ".py",
   "mimetype": "text/x-python",
   "name": "python",
   "nbconvert_exporter": "python",
   "pygments_lexer": "ipython3",
   "version": "3.9.13"
  }
 },
 "nbformat": 4,
 "nbformat_minor": 5
}
